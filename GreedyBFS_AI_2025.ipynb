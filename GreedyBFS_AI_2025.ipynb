{
  "cells": [
    {
      "cell_type": "code",
      "execution_count": 3,
      "metadata": {
        "id": "aY547roWSrJO"
      },
      "outputs": [],
      "source": [
        "maze5 = [\n",
        "    ['A', 0,  1,  0,  0,  0, 1, 0, 0, 1, 0, 0],\n",
        "    [0,   0,  1,  0,  1,  0, 1, 0, 1, 0, 0, 0],\n",
        "    [1,   0,  0,  0,  1,  0, 0, 0, 1, 1, 1, 0],\n",
        "    [0,   1,  1,  0,  0,  1, 1, 0, 0, 0, 1, 0],\n",
        "    [0,   0,  0,  0,  1,  0, 1, 1, 1, 0, 0, 0],\n",
        "    [1,   1,  1,  0,  1,  0, 0, 0, 1, 1, 1, 0],\n",
        "    [0,   0,  1,  0,  0,  0, 1, 0, 0, 0, 1, 0],\n",
        "    [0,   1,  0,  1,  1,  0, 1, 1, 1, 0, 1, 0],\n",
        "    [0,   0,  0,  0,  0,  0, 0, 0, 1, 0, 0, 0],\n",
        "    [1,   1,  1,  1,  1,  1, 0, 1, 0, 1, 1, 0],\n",
        "    [0,   0,  0,  0,  0,  0, 0, 1, 0, 0, 0, 0],\n",
        "    [0,   1,  1,  1,  1,  1, 1, 1, 1, 1, 1,'B'],\n",
        "]"
      ]
    },
    {
      "cell_type": "code",
      "execution_count": 4,
      "metadata": {
        "id": "iF0ylpHBLP9e"
      },
      "outputs": [],
      "source": [
        "import heapq\n",
        "\n",
        "# Define Manhattan distance heuristic\n",
        "def manhattan(a, b):\n",
        "    return abs(a[0] - b[0]) + abs(a[1] - b[1])"
      ]
    },
    {
      "cell_type": "code",
      "execution_count": 5,
      "metadata": {
        "id": "egOgH6qoLY0w"
      },
      "outputs": [],
      "source": [
        "# Get neighbors in 4 directions\n",
        "def get_neighbors(pos, maze):\n",
        "    neighbors = []\n",
        "    directions = [(-1,0), (1,0), (0,-1), (0,1)]  # up, down, left, right\n",
        "    rows, cols = len(maze), len(maze[0])\n",
        "    for dx, dy in directions:\n",
        "        nx, ny = pos[0] + dx, pos[1] + dy\n",
        "        if 0 <= nx < rows and 0 <= ny < cols and maze[nx][ny] != 1:\n",
        "            neighbors.append((nx, ny))\n",
        "    return neighbors"
      ]
    },
    {
      "cell_type": "markdown",
      "metadata": {
        "id": "w7Zr2NRPWT9N"
      },
      "source": [
        "# Processed Maze to replace A nd B with 0"
      ]
    },
    {
      "cell_type": "code",
      "execution_count": 6,
      "metadata": {
        "id": "Twnl-XSXWRHg"
      },
      "outputs": [],
      "source": [
        "def processed_maze(maze):\n",
        "\n",
        "    # Convert maze to numeric values for processing\n",
        "    processed_maze = []\n",
        "    for row in maze:\n",
        "        new_row = []\n",
        "        for cell in row:\n",
        "            if cell == 'A':\n",
        "                start = (maze.index(row), row.index(cell))\n",
        "                new_row.append(0)\n",
        "            elif cell == 'B':\n",
        "                goal = (maze.index(row), row.index(cell))\n",
        "                new_row.append(0)\n",
        "            else:\n",
        "                new_row.append(cell)\n",
        "        processed_maze.append(new_row)\n",
        "    return processed_maze, start, goal"
      ]
    },
    {
      "cell_type": "code",
      "execution_count": 7,
      "metadata": {
        "id": "My4eFHDFLcuq"
      },
      "outputs": [],
      "source": [
        "# Greedy Best-First Search\n",
        "\n",
        "def greedy_bfs(maze):\n",
        "\n",
        "    proc_maze, start, goal = processed_maze(maze)\n",
        "\n",
        "    visited = set()\n",
        "    came_from = {}\n",
        "\n",
        "    heap = []\n",
        "    heapq.heappush(heap, (manhattan(start, goal), start))\n",
        "\n",
        "    while heap:\n",
        "        _, current = heapq.heappop(heap)\n",
        "\n",
        "        if current == goal:\n",
        "            break\n",
        "\n",
        "        if current in visited:\n",
        "            continue\n",
        "        visited.add(current)\n",
        "\n",
        "        for neighbor in get_neighbors(current, maze):\n",
        "            if neighbor not in visited:\n",
        "                heapq.heappush(heap, (manhattan(neighbor, goal), neighbor))\n",
        "                if neighbor not in came_from:\n",
        "                    came_from[neighbor] = current\n",
        "\n",
        "    # Reconstruct path\n",
        "    path = []\n",
        "    curr = goal\n",
        "    while curr != start:\n",
        "        path.append(curr)\n",
        "        curr = came_from.get(curr)\n",
        "        if curr is None:\n",
        "            print(\"No path found.\")\n",
        "            return []\n",
        "    path.append(start)\n",
        "    path.reverse()\n",
        "    return path"
      ]
    },
    {
      "cell_type": "code",
      "execution_count": 8,
      "metadata": {
        "colab": {
          "base_uri": "https://localhost:8080/"
        },
        "id": "nGI0yUfcNTN2",
        "outputId": "244a127b-787f-449d-93a3-227b544b4109"
      },
      "outputs": [
        {
          "name": "stdout",
          "output_type": "stream",
          "text": [
            "Path from A to B:\n",
            "[(0, 0), (0, 1), (1, 1), (2, 1), (2, 2), (2, 3), (3, 3), (4, 3), (5, 3), (6, 3), (6, 4), (6, 5), (5, 5), (5, 6), (5, 7), (6, 7), (6, 8), (6, 9), (7, 9), (8, 9), (8, 10), (8, 11), (9, 11), (10, 11), (11, 11)]\n"
          ]
        }
      ],
      "source": [
        "path = greedy_bfs(maze5)\n",
        "\n",
        "# Print path\n",
        "print(\"Path from A to B:\")\n",
        "print(path)\n"
      ]
    },
    {
      "cell_type": "code",
      "execution_count": 17,
      "metadata": {
        "colab": {
          "base_uri": "https://localhost:8080/"
        },
        "id": "t5PGxPiuNVsC",
        "outputId": "27cc7246-137f-4c6b-d4d1-375f8145524e"
      },
      "outputs": [
        {
          "name": "stdout",
          "output_type": "stream",
          "text": [
            "A * 1 0 0 0 1 0 0 1 0 0\n",
            "0 * 1 0 1 0 1 0 1 0 0 0\n",
            "1 * * * 1 0 0 0 1 1 1 0\n",
            "0 1 1 * 0 1 1 0 0 0 1 0\n",
            "0 0 0 * 1 0 1 1 1 0 0 0\n",
            "1 1 1 * 1 * * * 1 1 1 0\n",
            "0 0 1 * * * 1 * * * 1 0\n",
            "0 1 0 1 1 0 1 1 1 * 1 0\n",
            "0 0 0 0 0 0 0 0 1 * * *\n",
            "1 1 1 1 1 1 0 1 0 1 1 *\n",
            "0 0 0 0 0 0 0 1 0 0 0 *\n",
            "0 1 1 1 1 1 1 1 1 1 1 B\n"
          ]
        }
      ],
      "source": [
        "def visualize_path(path, maze):\n",
        "    start, goal = find_positions(maze)  # Find start and goal within this function\n",
        "    for r, c in path:\n",
        "        if (r, c) != start and (r, c) != goal:\n",
        "            maze[r][c] = '*'\n",
        "\n",
        "    for row in maze:\n",
        "        print(' '.join(str(cell) for cell in row))\n",
        "\n",
        "visualize_path(path, maze5)\n"
      ]
    },
    {
      "cell_type": "code",
      "execution_count": null,
      "metadata": {
        "colab": {
          "base_uri": "https://localhost:8080/"
        },
        "id": "AYepKXZaVDCO",
        "outputId": "b5d3d56b-006f-4713-c311-98630eaf2300"
      },
      "outputs": [
        {
          "data": {
            "text/plain": [
              "[['A', '*', 1, 0, 0, 0, 1, 0, 0, 1, 0, 0],\n",
              " [0, '*', 1, 0, 1, 0, 1, 0, 1, 0, 0, 0],\n",
              " [1, '*', '*', '*', 1, 0, 0, 0, 1, 1, 1, 0],\n",
              " [0, 1, 1, '*', 0, 1, 1, 0, 0, 0, 1, 0],\n",
              " [0, 0, 0, '*', 1, 0, 1, 1, 1, 0, 0, 0],\n",
              " [1, 1, 1, '*', 1, '*', '*', '*', 1, 1, 1, 0],\n",
              " [0, 0, 1, '*', '*', '*', 1, '*', '*', '*', 1, 0],\n",
              " [0, 1, 0, 1, 1, 0, 1, 1, 1, '*', 1, 0],\n",
              " [0, 0, 0, 0, 0, 0, 0, 0, 1, '*', '*', '*'],\n",
              " [1, 1, 1, 1, 1, 1, 0, 1, 0, 1, 1, '*'],\n",
              " [0, 0, 0, 0, 0, 0, 0, 1, 0, 0, 0, '*'],\n",
              " [0, 1, 1, 1, 1, 1, 1, 1, 1, 1, 1, 'B']]"
            ]
          },
          "execution_count": 24,
          "metadata": {},
          "output_type": "execute_result"
        }
      ],
      "source": [
        "maze5"
      ]
    },
    {
      "cell_type": "code",
      "execution_count": null,
      "metadata": {
        "colab": {
          "base_uri": "https://localhost:8080/"
        },
        "id": "a2VqcArzXSK1",
        "outputId": "d36c9ccb-4266-49b7-9347-aa190573c8dc"
      },
      "outputs": [
        {
          "name": "stdout",
          "output_type": "stream",
          "text": [
            "A * 1 0 0 0 1 0 0 1 0 0\n",
            "0 * 1 0 1 0 1 0 1 0 0 0\n",
            "1 * * * 1 0 0 0 1 1 1 0\n",
            "0 1 1 * 0 1 1 0 0 0 1 0\n",
            "0 0 0 * 1 0 1 1 1 0 0 0\n",
            "1 1 1 * 1 * * * 1 1 1 0\n",
            "0 0 1 * * * 1 * * * 1 0\n",
            "0 1 0 1 1 0 1 1 1 * 1 0\n",
            "0 0 0 0 0 0 0 0 1 * * *\n",
            "1 1 1 1 1 1 0 1 0 1 1 *\n",
            "0 0 0 0 0 0 0 1 0 0 0 *\n",
            "0 1 1 1 1 1 1 1 1 1 1 B\n"
          ]
        }
      ],
      "source": [
        "visualize_path(path, maze5)"
      ]
    },
    {
      "cell_type": "markdown",
      "metadata": {
        "id": "I3JxjF86Q4nP"
      },
      "source": [
        "# Visualizing the manhattan distance in the maze\n"
      ]
    },
    {
      "cell_type": "code",
      "execution_count": 11,
      "metadata": {
        "id": "5R_16xekQAZ7"
      },
      "outputs": [],
      "source": [
        "def manhattan(p1, p2):\n",
        "    return abs(p1[0] - p2[0]) + abs(p1[1] - p2[1])\n",
        "\n",
        "# Find start (A) and goal (B)\n",
        "def find_positions(maze):\n",
        "    start = goal = None\n",
        "    for i in range(len(maze)):\n",
        "        for j in range(len(maze[0])):\n",
        "            if maze[i][j] == 'A':\n",
        "                start = (i, j)\n",
        "            elif maze[i][j] == 'B':\n",
        "                goal = (i, j)\n",
        "    return start, goal\n",
        "\n",
        "def visualize_manhattan(maze):\n",
        "    start, goal = find_positions(maze)\n",
        "    rows, cols = len(maze), len(maze[0])\n",
        "\n",
        "    dist_matrix = []\n",
        "    for i in range(rows):\n",
        "        row = []\n",
        "        for j in range(cols):\n",
        "            if maze[i][j] == 1:   # Wall\n",
        "                row.append(\"█\")\n",
        "            elif maze[i][j] == 'A':\n",
        "                row.append('A')\n",
        "            elif maze[i][j] == 'B':\n",
        "                row.append('B')\n",
        "            else:\n",
        "                row.append(manhattan((i, j), goal))\n",
        "        dist_matrix.append(row)\n",
        "\n",
        "    return dist_matrix"
      ]
    },
    {
      "cell_type": "code",
      "execution_count": 16,
      "metadata": {
        "colab": {
          "base_uri": "https://localhost:8080/"
        },
        "id": "xipZmZ2URGQs",
        "outputId": "71f3c810-cfa3-47bb-c7a2-685ac6c6cad7"
      },
      "outputs": [
        {
          "data": {
            "text/plain": [
              "[['A', 21, '█', 19, 18, 17, '█', 15, 14, '█', 12, 11],\n",
              " [21, 20, '█', 18, '█', 16, '█', 14, '█', 12, 11, 10],\n",
              " ['█', 19, 18, 17, '█', 15, 14, 13, '█', '█', '█', 9],\n",
              " [19, '█', '█', 16, 15, '█', '█', 12, 11, 10, '█', 8],\n",
              " [18, 17, 16, 15, '█', 13, '█', '█', '█', 9, 8, 7],\n",
              " ['█', '█', '█', 14, '█', 12, 11, 10, '█', '█', '█', 6],\n",
              " [16, 15, '█', 13, 12, 11, '█', 9, 8, 7, '█', 5],\n",
              " [15, '█', 13, '█', '█', 10, '█', '█', '█', 6, '█', 4],\n",
              " [14, 13, 12, 11, 10, 9, 8, 7, '█', 5, 4, 3],\n",
              " ['█', '█', '█', '█', '█', '█', 7, '█', 5, '█', '█', 2],\n",
              " [12, 11, 10, 9, 8, 7, 6, '█', 4, 3, 2, 1],\n",
              " [11, '█', '█', '█', '█', '█', '█', '█', '█', '█', '█', 'B']]"
            ]
          },
          "execution_count": 16,
          "metadata": {},
          "output_type": "execute_result"
        }
      ],
      "source": [
        "visualize_manhattan(maze5)"
      ]
    },
    {
      "cell_type": "code",
      "execution_count": 13,
      "metadata": {
        "id": "s6CVzMIFRu0B"
      },
      "outputs": [],
      "source": [
        "# Pretty print function\n",
        "def print_matrix(matrix):\n",
        "    for row in matrix:\n",
        "        row_str = \"\"\n",
        "        for val in row:\n",
        "            if val == \"█\":\n",
        "                row_str += \" █ \"   # Wall\n",
        "            elif val == 'A' or val == 'B':\n",
        "                row_str += f\" {val} \"\n",
        "            else:\n",
        "                row_str += f\"{val:2d} \"  # Align numbers\n",
        "        print(row_str)\n",
        "    print()  # Extra space after the grid"
      ]
    },
    {
      "cell_type": "code",
      "execution_count": 15,
      "metadata": {
        "colab": {
          "base_uri": "https://localhost:8080/"
        },
        "id": "Tx0pjCkGRwe9",
        "outputId": "bd3ab82c-aff4-49b5-f42e-c920285ba4c0"
      },
      "outputs": [
        {
          "name": "stdout",
          "output_type": "stream",
          "text": [
            " A 21  █ 19 18 17  █ 15 14  █ 12 11 \n",
            "21 20  █ 18  █ 16  █ 14  █ 12 11 10 \n",
            " █ 19 18 17  █ 15 14 13  █  █  █  9 \n",
            "19  █  █ 16 15  █  █ 12 11 10  █  8 \n",
            "18 17 16 15  █ 13  █  █  █  9  8  7 \n",
            " █  █  █ 14  █ 12 11 10  █  █  █  6 \n",
            "16 15  █ 13 12 11  █  9  8  7  █  5 \n",
            "15  █ 13  █  █ 10  █  █  █  6  █  4 \n",
            "14 13 12 11 10  9  8  7  █  5  4  3 \n",
            " █  █  █  █  █  █  7  █  5  █  █  2 \n",
            "12 11 10  9  8  7  6  █  4  3  2  1 \n",
            "11  █  █  █  █  █  █  █  █  █  █  B \n",
            "\n"
          ]
        }
      ],
      "source": [
        "print_matrix(visualize_manhattan(maze5))"
      ]
    },
    {
      "cell_type": "markdown",
      "metadata": {
        "id": "McQ6LgIeSawX"
      },
      "source": [
        "# Examples of different mazes\n"
      ]
    },
    {
      "cell_type": "code",
      "execution_count": null,
      "metadata": {
        "id": "bQmPpMNmSaFC"
      },
      "outputs": [],
      "source": [
        "maze5 = [\n",
        "    ['A', 0,  1,  0,  0,  0, 1, 0, 0, 1, 0, 0],\n",
        "    [0,   0,  1,  0,  1,  0, 1, 0, 1, 0, 0, 0],\n",
        "    [1,   0,  0,  0,  1,  0, 0, 0, 1, 1, 1, 0],\n",
        "    [0,   1,  1,  0,  0,  1, 1, 0, 0, 0, 1, 0],\n",
        "    [0,   0,  0,  0,  1,  0, 1, 1, 1, 0, 0, 0],\n",
        "    [1,   1,  1,  0,  1,  0, 0, 0, 1, 1, 1, 0],\n",
        "    [0,   0,  1,  0,  0,  0, 1, 0, 0, 0, 1, 0],\n",
        "    [0,   1,  0,  1,  1,  0, 1, 1, 1, 0, 1, 0],\n",
        "    [0,   0,  0,  0,  0,  0, 0, 0, 1, 0, 0, 0],\n",
        "    [1,   1,  1,  1,  1,  1, 0, 1, 0, 1, 1, 0],\n",
        "    [0,   0,  0,  0,  0,  0, 0, 1, 0, 0, 0, 0],\n",
        "    [0,   1,  1,  1,  1,  1, 1, 1, 1, 1, 1,'B'],\n",
        "]"
      ]
    },
    {
      "cell_type": "code",
      "execution_count": null,
      "metadata": {
        "id": "Q4BAKiKTSkcz"
      },
      "outputs": [],
      "source": [
        "maze4 = [\n",
        "    ['A', 0,  1,  0,  0,  0, 1, 0, 0, 0],\n",
        "    [0,   0,  1,  0,  1,  0, 1, 0, 1, 0],\n",
        "    [1,   0,  0,  0,  1,  0, 0, 0, 1, 0],\n",
        "    [0,   1,  1,  0,  0,  1, 1, 0, 0, 0],\n",
        "    [0,   0,  0,  0,  1,  0, 1, 1, 1, 0],\n",
        "    [1,   1,  1,  0,  1,  0, 0, 0, 1, 0],\n",
        "    [0,   0,  1,  0,  0,  0, 1, 0, 0, 0],\n",
        "    [0,   1,  0,  1,  1,  0, 1, 1, 1, 0],\n",
        "    [0,   0,  0,  0,  0,  0, 0, 0, 1, 0],\n",
        "    [1,   1,  1,  1,  1,  1, 0, 1, 0,'B'],\n",
        "]"
      ]
    },
    {
      "cell_type": "code",
      "execution_count": null,
      "metadata": {
        "id": "DX6CdpGMSoWN"
      },
      "outputs": [],
      "source": [
        "maze3 = [\n",
        "    ['A', 0,  1,  0, 0, 0, 0, 0],\n",
        "    [0,   0,  1,  0, 1, 1, 1, 0],\n",
        "    [0,   1,  1,  0, 0, 0, 1, 0],\n",
        "    [0,   0,  0,  0, 1, 0, 1, 0],\n",
        "    [1,   1,  1,  0, 1, 0, 0, 0],\n",
        "    [0,   0,  0,  0, 0, 1, 1, 0],\n",
        "    [0,   1,  1,  1, 0, 0, 0, 0],\n",
        "    [0,   0,  0,  0, 0, 1, 1,'B'],\n",
        "]"
      ]
    },
    {
      "cell_type": "code",
      "execution_count": null,
      "metadata": {
        "id": "zdI7tCCjSqii"
      },
      "outputs": [],
      "source": [
        "maze2 = [\n",
        "    ['A', 0,   1,  0, 0, 0],\n",
        "    [1,   0,   1,  0, 1, 0],\n",
        "    [0,   0,   0,  0, 1, 0],\n",
        "    [0,   1,   1,  1, 1, 0],\n",
        "    [0,   0,   0,  0, 0, 0],\n",
        "    [0,   1,   1,  1, 1,'B'],\n",
        "]"
      ]
    },
    {
      "cell_type": "code",
      "execution_count": null,
      "metadata": {
        "id": "xF5OWgA1SuG3"
      },
      "outputs": [],
      "source": [
        "maze1 = [\n",
        "    ['A', 0, 0, 0, 'B'],\n",
        "    [1,   1, 1, 1,  0],\n",
        "    [0,   0, 0, 0,  0],\n",
        "    [0,   1, 1, 1,  0],\n",
        "    [0,   0, 0, 0,  0],\n",
        "]"
      ]
    },
    {
      "cell_type": "markdown",
      "metadata": {
        "id": "yLt79OkwXW0O"
      },
      "source": [
        "# OOps"
      ]
    },
    {
      "cell_type": "code",
      "execution_count": null,
      "metadata": {
        "id": "JRYzsuRtgO-X"
      },
      "outputs": [],
      "source": [
        "maze6 = [\n",
        "    [1,0,0,0,0,0,0,0,0,0,0,'B'],\n",
        "    [1,0,1,1,1,1,1,1,1,1,1,0],\n",
        "    [1,0,1,0,0,0,0,0,0,0,1,0],\n",
        "    [1,0,1,0,1,1,1,1,1,0,1,0],\n",
        "    [1,0,0,0,1,0,0,0,0,0,1,0],\n",
        "    [1,1,1,0,1,0,1,1,1,1,1,0],\n",
        "    ['A',0,0,0,1,0,0,0,0,0,0,0]\n",
        "]"
      ]
    }
  ],
  "metadata": {
    "colab": {
      "provenance": []
    },
    "kernelspec": {
      "display_name": "Python 3",
      "name": "python3"
    },
    "language_info": {
      "codemirror_mode": {
        "name": "ipython",
        "version": 3
      },
      "file_extension": ".py",
      "mimetype": "text/x-python",
      "name": "python",
      "nbconvert_exporter": "python",
      "pygments_lexer": "ipython3",
      "version": "3.13.5"
    }
  },
  "nbformat": 4,
  "nbformat_minor": 0
}
